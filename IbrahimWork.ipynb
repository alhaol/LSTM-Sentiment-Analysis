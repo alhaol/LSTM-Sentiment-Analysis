{
 "cells": [
  {
   "cell_type": "markdown",
   "metadata": {},
   "source": [
    "#### Why LSTMs are useful for capturing long term dependencies in natural language text?\n",
    "\n",
    "- performing sentiment analysis (using pre-trained word vectors)\n",
    "    - application of word vectors, \n",
    "    - creation of the network architecture\n",
    "    - training and testing with Tensorflow\n",
    "    \n",
    "- examining a pre-trained sentiment analysis model and summarizing the results."
   ]
  },
  {
   "cell_type": "markdown",
   "metadata": {},
   "source": [
    "> Credit: Adit Deshpande, https://github.com/adeshpande3/LSTM-Sentiment-Analysis"
   ]
  },
  {
   "cell_type": "code",
   "execution_count": null,
   "metadata": {},
   "outputs": [],
   "source": []
  }
 ],
 "metadata": {
  "kernelspec": {
   "display_name": "Python 3",
   "language": "python",
   "name": "python3"
  },
  "language_info": {
   "codemirror_mode": {
    "name": "ipython",
    "version": 3
   },
   "file_extension": ".py",
   "mimetype": "text/x-python",
   "name": "python",
   "nbconvert_exporter": "python",
   "pygments_lexer": "ipython3",
   "version": "3.6.1"
  }
 },
 "nbformat": 4,
 "nbformat_minor": 2
}
